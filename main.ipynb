{
 "cells": [
  {
   "cell_type": "code",
   "execution_count": null,
   "metadata": {},
   "outputs": [],
   "source": [
    "import torch\n",
    "import torchvision\n",
    "import random\n",
    "from model import *\n",
    "\n",
    "device = 'cuda' if torch.cuda.is_available() else 'cpu'\n",
    "random.seed(777)\n",
    "torch.manual_seed(777)\n",
    "if device == 'cuda':\n",
    "    torch.cuda.manual_seed(777)"
   ]
  },
  {
   "cell_type": "code",
   "execution_count": null,
   "metadata": {},
   "outputs": [],
   "source": [
    "learning_rate = 1e-2\n",
    "batch_size = 64\n",
    "epoch = 200"
   ]
  },
  {
   "cell_type": "code",
   "execution_count": null,
   "metadata": {},
   "outputs": [],
   "source": [
    "root = \"./CIFAR100\"\n",
    "# transform not added now\n",
    "data_train = torchvision.datasets.tiny_imagenet_datasets.CIFAR100(root, split = \"train\", download = True)\n",
    "data_test = torchvision.datasets.tiny_imagenet_datasets.CIFAR100(root, split = \"test\", download = True)"
   ]
  },
  {
   "cell_type": "code",
   "execution_count": null,
   "metadata": {},
   "outputs": [],
   "source": [
    "train_loader = torch.utils.data.DataLoader(dataset=data_train, batch_size=batch_size, shuffle=True, drop_last=True)\n",
    "test_loader = torch.utils.data.DataLoader(dataset=data_test, batch_size=batch_size, shuffle=False, drop_last=True)"
   ]
  },
  {
   "cell_type": "code",
   "execution_count": null,
   "metadata": {},
   "outputs": [],
   "source": [
    "model = ResNet(Bottleneck, [3, 4, 6, 3], num_classes=100).to(device)\n",
    "criterion = torch.nn.CrossEntropyLoss().to(device)\n",
    "optimizer = torch.optim.Adam(model.parameters(), lr = learning_rate)"
   ]
  },
  {
   "cell_type": "code",
   "execution_count": null,
   "metadata": {},
   "outputs": [],
   "source": [
    "def train_one_epoch(print_result = False):\n",
    "    model.train()\n",
    "    loss_sum = 0.0\n",
    "    accuracy_sum = 0.0\n",
    "    length = 0\n",
    "\n",
    "    for X, Y in train_loader:\n",
    "        X = X.to(device)\n",
    "        Y = Y.to(device)\n",
    "\n",
    "        optimizer.zero_grad()\n",
    "\n",
    "        pred = model(X)\n",
    "        loss = criterion(pred, Y)\n",
    "        pred_idx = torch.argmax(pred, 1)\n",
    "        loss_sum += loss.item()\n",
    "        accuracy_sum += torch.sum((pred_idx == Y).float())\n",
    "        length += X.size(1)\n",
    "\n",
    "        loss.backward()\n",
    "        loss.step()\n",
    "\n",
    "    if(print_result):\n",
    "        print(\"loss :\", loss_sum / length)\n",
    "        print(\"accuracy:\", accuracy_sum / length)"
   ]
  },
  {
   "cell_type": "code",
   "execution_count": null,
   "metadata": {},
   "outputs": [],
   "source": [
    "def eval():\n",
    "    model.eval()\n",
    "    loss_sum = 0.0\n",
    "    accuracy_sum = 0.0\n",
    "    length = 0\n",
    "\n",
    "    for X, Y in train_loader:\n",
    "        X = X.to(device)\n",
    "        Y = Y.to(device)\n",
    "\n",
    "        optimizer.zero_grad()\n",
    "\n",
    "        pred = model(X)\n",
    "        loss = criterion(pred, Y)\n",
    "        pred_idx = torch.argmax(pred, 1)\n",
    "        loss_sum += loss.item()\n",
    "        accuracy_sum += torch.sum((pred_idx == Y).float())\n",
    "        length += X.size(1)\n",
    "\n",
    "        loss.backward()\n",
    "        loss.step()\n",
    "        \n",
    "    print(\"loss :\", loss_sum / length)\n",
    "    print(\"accuracy:\", accuracy_sum / length)"
   ]
  },
  {
   "cell_type": "code",
   "execution_count": null,
   "metadata": {},
   "outputs": [],
   "source": [
    "def train():\n",
    "    for i in range(epoch):\n",
    "        print(\"EPOCH[\" + str(i + 1) + \"]\")\n",
    "        print(\"==== train ====\")\n",
    "        train_one_epoch(print_result=True)\n",
    "        \n",
    "        print(\"==== eval ====\")\n",
    "        eval()"
   ]
  }
 ],
 "metadata": {
  "kernelspec": {
   "display_name": "Python 3",
   "language": "python",
   "name": "python3"
  },
  "language_info": {
   "name": "python",
   "version": "3.9.6 (default, Oct 18 2022, 12:41:40) \n[Clang 14.0.0 (clang-1400.0.29.202)]"
  },
  "orig_nbformat": 4,
  "vscode": {
   "interpreter": {
    "hash": "31f2aee4e71d21fbe5cf8b01ff0e069b9275f58929596ceb00d14d90e3e16cd6"
   }
  }
 },
 "nbformat": 4,
 "nbformat_minor": 2
}
