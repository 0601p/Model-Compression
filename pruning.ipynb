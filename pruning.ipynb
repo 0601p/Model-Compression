{
 "cells": [
  {
   "cell_type": "code",
   "execution_count": null,
   "metadata": {},
   "outputs": [],
   "source": [
    "!git clone https://github.com/0601p/Model-Compression.git"
   ]
  },
  {
   "cell_type": "code",
   "execution_count": null,
   "metadata": {},
   "outputs": [],
   "source": [
    "!pip install torch-pruning # v1.0.0"
   ]
  },
  {
   "cell_type": "code",
   "execution_count": null,
   "metadata": {},
   "outputs": [],
   "source": [
    "import torch\n",
    "import torch.nn.utils.prune as prune\n",
    "import torchvision\n",
    "import random\n",
    "import sys\n",
    "import torch_pruning\n",
    "sys.path.append(\"/content/Model-Compression\")\n",
    "\n",
    "from model import *\n",
    "\n",
    "device = 'cuda' if torch.cuda.is_available() else 'cpu'\n",
    "random.seed(777)\n",
    "torch.manual_seed(777)\n",
    "if device == 'cuda':\n",
    "    torch.cuda.manual_seed(777)"
   ]
  },
  {
   "cell_type": "code",
   "execution_count": null,
   "metadata": {},
   "outputs": [],
   "source": [
    "learning_rate = 1e-4\n",
    "batch_size = 512\n",
    "epoch = 20"
   ]
  },
  {
   "cell_type": "code",
   "execution_count": null,
   "metadata": {},
   "outputs": [],
   "source": [
    "root = \"./CIFAR100\"\n",
    "transform = torchvision.transforms.ToTensor()\n",
    "data_train = torchvision.datasets.CIFAR100(root, train = True, transform = transform, download = True)\n",
    "data_test = torchvision.datasets.CIFAR100(root, train = False, transform = transform, download = True)"
   ]
  },
  {
   "cell_type": "code",
   "execution_count": null,
   "metadata": {},
   "outputs": [],
   "source": [
    "train_loader = torch.utils.data.DataLoader(dataset=data_train, batch_size=batch_size, shuffle=True, drop_last=True)\n",
    "test_loader = torch.utils.data.DataLoader(dataset=data_test, batch_size=batch_size, shuffle=False, drop_last=True)"
   ]
  },
  {
   "cell_type": "code",
   "execution_count": null,
   "metadata": {},
   "outputs": [],
   "source": [
    "model = ResNet(Bottleneck, [3, 4, 6, 3], num_classes=100).to(device)\n",
    "checkpoint = torch.load(\"/content/Model-Compression/model.pth\")\n",
    "model.load_state_dict(checkpoint)\n",
    "criterion = torch.nn.CrossEntropyLoss().to(device)\n",
    "optimizer = torch.optim.Adam(model.parameters(), lr = learning_rate)"
   ]
  },
  {
   "attachments": {},
   "cell_type": "markdown",
   "metadata": {},
   "source": [
    "Code for Training and Eval"
   ]
  },
  {
   "cell_type": "code",
   "execution_count": null,
   "metadata": {},
   "outputs": [],
   "source": [
    "def train_one_epoch(print_result = False):\n",
    "    model.train()\n",
    "    loss_sum = 0.0\n",
    "    accuracy_sum = 0.0\n",
    "    length = 0\n",
    "\n",
    "    for X, Y in train_loader:\n",
    "        X = X.to(device)\n",
    "        Y = Y.to(device)\n",
    "\n",
    "        optimizer.zero_grad()\n",
    "\n",
    "        pred = model(X)\n",
    "        loss = criterion(pred, Y)\n",
    "        pred_idx = torch.argmax(pred, 1)\n",
    "        loss_sum += loss.item()\n",
    "        accuracy_sum += torch.sum((pred_idx == Y).float()).item()\n",
    "        length += X.size(0)\n",
    "\n",
    "        loss.backward()\n",
    "        optimizer.step()\n",
    "\n",
    "    if(print_result):\n",
    "        print(\"loss :\", loss_sum / length)\n",
    "        print(\"accuracy:\", accuracy_sum / length)"
   ]
  },
  {
   "cell_type": "code",
   "execution_count": null,
   "metadata": {},
   "outputs": [],
   "source": [
    "def eval():\n",
    "    with torch.no_grad():\n",
    "        model.eval()\n",
    "        loss_sum = 0.0\n",
    "        accuracy_sum = 0.0\n",
    "        length = 0\n",
    "\n",
    "        for X, Y in train_loader:\n",
    "            X = X.to(device)\n",
    "            Y = Y.to(device)\n",
    "\n",
    "            pred = model(X)\n",
    "            loss = criterion(pred, Y)\n",
    "            pred_idx = torch.argmax(pred, 1)\n",
    "            loss_sum += loss.item()\n",
    "            accuracy_sum += torch.sum((pred_idx == Y).float()).item()\n",
    "            length += X.size(0)\n",
    "            \n",
    "        print(\"loss :\", loss_sum / length)\n",
    "        print(\"accuracy:\", accuracy_sum / length)"
   ]
  },
  {
   "cell_type": "code",
   "execution_count": null,
   "metadata": {},
   "outputs": [],
   "source": [
    "def train():\n",
    "    for i in range(epoch):\n",
    "        print(\"EPOCH[\" + str(i + 1) + \"]\")\n",
    "        print(\"==== train ====\")\n",
    "        train_one_epoch(print_result=True)\n",
    "        \n",
    "        print(\"==== eval ====\")\n",
    "        eval()"
   ]
  },
  {
   "attachments": {},
   "cell_type": "markdown",
   "metadata": {},
   "source": [
    "Code for Pruning"
   ]
  },
  {
   "cell_type": "code",
   "execution_count": null,
   "metadata": {},
   "outputs": [],
   "source": [
    "\"\"\" code for pruning specific filters\n",
    "\n",
    "DG = torch_pruning.DependencyGraph()\n",
    "DG.build_dependency(model, example_inputs=torch.randn(1, 3, 32, 32).to(\"cuda\"))\n",
    "pruning_idxs = [0, 1, 2, 3, 4] # remove filter 0 ~ 4\n",
    "pruning_group = DG.get_pruning_group(model.conv1, torch_pruning.prune_conv_out_channels, idxs = pruning_idxs)\n",
    "print(pruning_group)\n",
    "if DG.check_pruning_group(pruning_group):\n",
    "    pruning_group.exec()\n",
    "\"\"\""
   ]
  },
  {
   "cell_type": "code",
   "execution_count": null,
   "metadata": {},
   "outputs": [],
   "source": [
    "# code for pruning whole model\n",
    "\n",
    "example_inputs = torch.randn(1, 3, 32, 32).to(\"cuda\")\n",
    "imp = torch_pruning.importance.MagnitudeImportance(p = 2)\n",
    "ignored_layers = []\n",
    "for m in model.modules():\n",
    "    if isinstance(m, torch.nn.Linear) and m.out_features == 100:\n",
    "        ignored_layers.append(m)\n",
    "\n",
    "#ch_sparsity = 0.5 means 50% of the filters are pruned\n",
    "pruner = torch_pruning.pruner.MagnitudePruner(model=model, example_inputs=example_inputs, importance=imp, iterative_steps=5, ch_sparsity=0.5, ignored_layers=ignored_layers)\n",
    "\n",
    "base_macs, base_nparams = torch_pruning.utils.count_ops_and_params(model=model, example_inputs=example_inputs)\n",
    "print(\"basemacs :\", base_macs, \"basenparams :\", base_nparams)\n",
    "for i in range(5):\n",
    "    pruner.step()\n",
    "    macs, nparams = torch_pruning.utils.count_ops_and_params(model=model, example_inputs=example_inputs)\n",
    "    print(\"iter [\", i, \"] macs :\", macs, \"nparams :\", nparams)\n",
    "\n",
    "    #finetune\n",
    "    optimizer = torch.optim.Adam(model.parameters(), lr = learning_rate)\n",
    "    for j in range(10):\n",
    "        train_one_epoch(print_result = True)\n",
    "    \n",
    "    eval()\n"
   ]
  },
  {
   "cell_type": "code",
   "execution_count": null,
   "metadata": {},
   "outputs": [],
   "source": [
    "eval()"
   ]
  }
 ],
 "metadata": {
  "kernelspec": {
   "display_name": "Python 3",
   "language": "python",
   "name": "python3"
  },
  "language_info": {
   "name": "python",
   "version": "3.9.6 (default, Oct 18 2022, 12:41:40) \n[Clang 14.0.0 (clang-1400.0.29.202)]"
  },
  "orig_nbformat": 4,
  "vscode": {
   "interpreter": {
    "hash": "31f2aee4e71d21fbe5cf8b01ff0e069b9275f58929596ceb00d14d90e3e16cd6"
   }
  }
 },
 "nbformat": 4,
 "nbformat_minor": 2
}
