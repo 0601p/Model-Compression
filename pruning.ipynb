{
 "cells": [
  {
   "cell_type": "code",
   "execution_count": null,
   "metadata": {},
   "outputs": [],
   "source": [
    "!git clone https://github.com/0601p/Model-Compression.git"
   ]
  },
  {
   "cell_type": "code",
   "execution_count": null,
   "metadata": {},
   "outputs": [],
   "source": [
    "import torch\n",
    "import torch.nn.utils.prune as prune\n",
    "import torchvision\n",
    "import random\n",
    "import sys\n",
    "sys.path.append(\"/content/Model-Compression\")\n",
    "\n",
    "from model import *\n",
    "from prune import *\n",
    "\n",
    "device = 'cuda' if torch.cuda.is_available() else 'cpu'\n",
    "random.seed(777)\n",
    "torch.manual_seed(777)\n",
    "if device == 'cuda':\n",
    "    torch.cuda.manual_seed(777)"
   ]
  },
  {
   "cell_type": "code",
   "execution_count": null,
   "metadata": {},
   "outputs": [],
   "source": [
    "learning_rate = 1e-2\n",
    "batch_size = 512\n",
    "epoch = 20"
   ]
  },
  {
   "cell_type": "code",
   "execution_count": null,
   "metadata": {},
   "outputs": [],
   "source": [
    "root = \"./CIFAR100\"\n",
    "transform = torchvision.transforms.ToTensor()\n",
    "data_train = torchvision.datasets.CIFAR100(root, train = True, transform = transform, download = True)\n",
    "data_test = torchvision.datasets.CIFAR100(root, train = False, transform = transform, download = True)"
   ]
  },
  {
   "cell_type": "code",
   "execution_count": null,
   "metadata": {},
   "outputs": [],
   "source": [
    "train_loader = torch.utils.data.DataLoader(dataset=data_train, batch_size=batch_size, shuffle=True, drop_last=True)\n",
    "test_loader = torch.utils.data.DataLoader(dataset=data_test, batch_size=batch_size, shuffle=False, drop_last=True)"
   ]
  },
  {
   "cell_type": "code",
   "execution_count": null,
   "metadata": {},
   "outputs": [],
   "source": [
    "model = ResNet(Bottleneck, [3, 4, 6, 3], num_classes=100).to(device)\n",
    "checkpoint = torch.load(\"/content/Model-Compression/model.pth\")\n",
    "model.load_state_dict(checkpoint)\n",
    "criterion = torch.nn.CrossEntropyLoss().to(device)\n",
    "optimizer = torch.optim.Adam(model.parameters(), lr = learning_rate)"
   ]
  },
  {
   "cell_type": "code",
   "execution_count": null,
   "metadata": {},
   "outputs": [],
   "source": [
    "module = model.conv1\n",
    "stt = L1Strategy()\n",
    "print(stt.apply(weights = module.weight, amount = 0.1))"
   ]
  },
  {
   "cell_type": "code",
   "execution_count": null,
   "metadata": {},
   "outputs": [],
   "source": [
    "for name, layer in model.named_modules():\n",
    "    if isinstance(layer, torch.nn.Conv2d):\n",
    "        idx = stt.apply(weights = layer.weight, amount = 0.1)\n",
    "    if isinstance(layer, torch.nn.Linear):\n",
    "        idx = stt.apply(weights = layer.weight, amount = 0.1)\n",
    "\n",
    "\"\"\" Trying this one might be helpful\n",
    "layer.load_state_dict({'weight': torch.tensor([[[[0.4738, -0.2197],\n",
    "                      [-0.3436, -0.0754]]],\n",
    "                    [[[0.1662, 0.4098],\n",
    "                      [-0.4306, -0.4828]]]])}, strict=False)\n",
    "\"\"\""
   ]
  },
  {
   "cell_type": "code",
   "execution_count": null,
   "metadata": {},
   "outputs": [],
   "source": [
    "def train_one_epoch(print_result = False):\n",
    "    model.train()\n",
    "    loss_sum = 0.0\n",
    "    accuracy_sum = 0.0\n",
    "    length = 0\n",
    "\n",
    "    for X, Y in train_loader:\n",
    "        X = X.to(device)\n",
    "        Y = Y.to(device)\n",
    "\n",
    "        optimizer.zero_grad()\n",
    "\n",
    "        pred = model(X)\n",
    "        loss = criterion(pred, Y)\n",
    "        pred_idx = torch.argmax(pred, 1)\n",
    "        loss_sum += loss.item()\n",
    "        accuracy_sum += torch.sum((pred_idx == Y).float()).item()\n",
    "        length += X.size(0)\n",
    "\n",
    "        loss.backward()\n",
    "        optimizer.step()\n",
    "\n",
    "    if(print_result):\n",
    "        print(\"loss :\", loss_sum / length)\n",
    "        print(\"accuracy:\", accuracy_sum / length)"
   ]
  },
  {
   "cell_type": "code",
   "execution_count": null,
   "metadata": {},
   "outputs": [],
   "source": [
    "def eval():\n",
    "    with torch.no_grad():\n",
    "        model.eval()\n",
    "        loss_sum = 0.0\n",
    "        accuracy_sum = 0.0\n",
    "        length = 0\n",
    "\n",
    "        for X, Y in train_loader:\n",
    "            X = X.to(device)\n",
    "            Y = Y.to(device)\n",
    "\n",
    "            pred = model(X)\n",
    "            loss = criterion(pred, Y)\n",
    "            pred_idx = torch.argmax(pred, 1)\n",
    "            loss_sum += loss.item()\n",
    "            accuracy_sum += torch.sum((pred_idx == Y).float()).item()\n",
    "            length += X.size(0)\n",
    "            \n",
    "        print(\"loss :\", loss_sum / length)\n",
    "        print(\"accuracy:\", accuracy_sum / length)"
   ]
  },
  {
   "cell_type": "code",
   "execution_count": null,
   "metadata": {},
   "outputs": [],
   "source": [
    "def train():\n",
    "    for i in range(epoch):\n",
    "        print(\"EPOCH[\" + str(i + 1) + \"]\")\n",
    "        print(\"==== train ====\")\n",
    "        train_one_epoch(print_result=True)\n",
    "        \n",
    "        print(\"==== eval ====\")\n",
    "        eval()"
   ]
  },
  {
   "cell_type": "code",
   "execution_count": null,
   "metadata": {},
   "outputs": [],
   "source": [
    "eval()"
   ]
  }
 ],
 "metadata": {
  "kernelspec": {
   "display_name": "Python 3",
   "language": "python",
   "name": "python3"
  },
  "language_info": {
   "name": "python",
   "version": "3.9.6 (default, Oct 18 2022, 12:41:40) \n[Clang 14.0.0 (clang-1400.0.29.202)]"
  },
  "orig_nbformat": 4,
  "vscode": {
   "interpreter": {
    "hash": "31f2aee4e71d21fbe5cf8b01ff0e069b9275f58929596ceb00d14d90e3e16cd6"
   }
  }
 },
 "nbformat": 4,
 "nbformat_minor": 2
}
